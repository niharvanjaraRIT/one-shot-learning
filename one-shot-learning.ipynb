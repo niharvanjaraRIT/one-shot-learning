{
 "cells": [
  {
   "cell_type": "markdown",
   "metadata": {},
   "source": [
    "## One shot learning using siamese convolutional neural networks\n",
    "\n",
    "Deep neural networks are able to perform very well on tasks such as classification when given large amounts of data (and trained properly offcourse). It becomes very hard to train these deep neural networks with millions of parameters with the scarse data. So I find it very exciting as to how DNN's can be trained to solve the learning tasks when data is scarse. In this notebook we will be looking to solve the classification problem on the omniglot dataset. The omniglot dataset contains only 20 samples per character (class) and every alphabet (language) contains multiple characters (classes). \n",
    "The data is divided into 2 parts.\n",
    "* Background (Used for training)\n",
    "* Evaluation (Used for validation and testing)\n",
    "\n",
    "The approach I have taken to solve this problem is using siamese networks as proposed by Koch,Zemel and Salakhutdinov.\n",
    "[\\[1\\]](https://www.cs.cmu.edu/~rsalakhu/papers/oneshot1.pdf).    "
   ]
  },
  {
   "cell_type": "code",
   "execution_count": 1,
   "metadata": {},
   "outputs": [],
   "source": [
    "import random\n",
    "import os\n",
    "import tensorflow as tf\n",
    "import numpy as np\n",
    "import matplotlib.pyplot as plt\n",
    "import matplotlib.image as mpimg\n",
    "import matplotlib.gridspec as gridspec\n",
    "from io import BytesIO\n",
    "from zipfile import ZipFile\n",
    "from urllib.request import urlopen\n",
    "from sklearn.metrics import accuracy_score"
   ]
  },
  {
   "cell_type": "markdown",
   "metadata": {},
   "source": [
    "### Load background data\n",
    "open the background data from the github url (link) and read the entire folder in bytes format."
   ]
  },
  {
   "cell_type": "code",
   "execution_count": 2,
   "metadata": {},
   "outputs": [],
   "source": [
    "background_url = 'https://github.com/brendenlake/omniglot/blob/master/python/images_background.zip?raw=true'\n",
    "resp = urlopen(background_url)\n",
    "background_folder = ZipFile(BytesIO(resp.read()))"
   ]
  },
  {
   "cell_type": "markdown",
   "metadata": {},
   "source": [
    "### Data exploration\n",
    "\n",
    "In the below section we explore some details related to the background data. The data_summary() function described below prints information regarding the the omniglot data. this function is again called latter when loading the omniglot evaluation data.\n",
    "The data_summary() function prints the following information. \n",
    "* number of unique characters in the the background set. \n",
    "* Number of alphabets in the background set. \n",
    "* List some of the names of the alphabets\n",
    "* Find out the size of a random image\n",
    "* Display a random image\n",
    "* Print path of a file in the background data"
   ]
  },
  {
   "cell_type": "code",
   "execution_count": 3,
   "metadata": {},
   "outputs": [],
   "source": [
    "def load_image(file_name,zip_folder):\n",
    "    \"\"\"\n",
    "    Loads  a single image file as a numpy array.\n",
    "    Args:\n",
    "        file_name: path of the image file\n",
    "        zip_folder: path of the zipped image folder containing the image file\n",
    "    Returns:\n",
    "        img: 2-d numpy array representing the image\n",
    "    \"\"\"\n",
    "    file = zip_folder.open(file_name)\n",
    "    img = mpimg.imread(file)\n",
    "    return img\n",
    "\n",
    "def data_summary(zip_folder):\n",
    "    \"\"\"\n",
    "    Prints summary of the omniglot data. (for background and evaluation folders)\n",
    "    Args:\n",
    "        zip_folder: path of the zipped image folder containing the image file\n",
    "    Returns:\n",
    "        images_path_list: the list of paths for the images \n",
    "        alphabets: A set() containing the names of the alphabets in the data folder\n",
    "    \"\"\"\n",
    "    alphabets = set()\n",
    "    unique_characters = set()\n",
    "    images_path_list = list()\n",
    "    for names in zip_folder.namelist():\n",
    "        if names.endswith('.png'):\n",
    "            _,alphabet,_,image_name = names.split('/')\n",
    "            alphabets.add(alphabet)\n",
    "            unique_characters.add(image_name.split('.')[0].split('_')[0])\n",
    "            images_path_list.append(names)\n",
    "\n",
    "    print(\"Total number of unique alphabets (languages): \",len(alphabets))\n",
    "    print(\"Names of some of the random unique alphabets: \\n\", random.sample(alphabets,7))\n",
    "    print(\"Total number of unique characters (classes) : \",len(unique_characters))\n",
    "    img_path = random.sample(images_path_list,1)[0]\n",
    "    print(\"Path of one of the images: \",img_path)\n",
    "    img = load_image(img_path,zip_folder)\n",
    "    print(\"Shape of the sample image :\",img.shape)\n",
    "\n",
    "    \n",
    "    \n",
    "    return images_path_list,alphabets"
   ]
  },
  {
   "cell_type": "code",
   "execution_count": 4,
   "metadata": {},
   "outputs": [
    {
     "name": "stdout",
     "output_type": "stream",
     "text": [
      "Total number of unique alphabets (languages):  30\n",
      "Names of some of the random unique alphabets: \n",
      " ['Ojibwe_(Canadian_Aboriginal_Syllabics)', 'Bengali', 'Grantha', 'Mkhedruli_(Georgian)', 'Hebrew', 'Sanskrit', 'Braille']\n",
      "Total number of unique characters (classes) :  964\n",
      "Path of one of the images:  images_background/Alphabet_of_the_Magi/character04/0712_13.png\n",
      "Shape of the sample image : (105, 105)\n"
     ]
    }
   ],
   "source": [
    "background_path_list,background_alphabets = data_summary(background_folder)"
   ]
  },
  {
   "cell_type": "markdown",
   "metadata": {},
   "source": [
    "## Data Visualization\n",
    "\n",
    "In the below section we visualize some of the characters for the alphabets in the background set. The section contains 4 functions:\n",
    "* set_title(): Set the title of the subplot\n",
    "* image_subplot(): plot the subplot contains either 1 or multiple images\n",
    "* visualize(): calls subplot and set title to build the entire plot accordingly\n",
    "* visualize_data(): used to visualize alphabets in the background and evaluation datasets. (Uses visualize())\n",
    "\n",
    "visualize() function is used multiple times in the notebook for data visualization. \n",
    "Below we can visualize some of the random characters for some random alphabets in the background set. The visualize_data() is used to visualize the data prepared for the verfication task (training and validation). From visualizing the images we can conclude we do not require to normalize the images in any way as they are binary images."
   ]
  },
  {
   "cell_type": "code",
   "execution_count": 5,
   "metadata": {},
   "outputs": [
    {
     "data": {
      "image/png": "[encoded data removed]",
      "text/plain": [
       "<matplotlib.figure.Figure at 0x7f247c4af7f0>"
      ]
     },
     "metadata": {},
     "output_type": "display_data"
    },
    {
     "data": {
      "image/png": "[encoded data removed]",
      "text/plain": [
       "<matplotlib.figure.Figure at 0x7f2479da3dd8>"
      ]
     },
     "metadata": {},
     "output_type": "display_data"
    }
   ],
   "source": [
    "def set_title(fig,outer,text):\n",
    "    \"\"\"\n",
    "    Sets the title for the 2 grids of the figure.\n",
    "    Args:\n",
    "        figure: figure object on which the plots are formed.\n",
    "        outer: path of the zipped image folder containing the image file\n",
    "        text: text iterator object which is called by next()\n",
    "    Returns:\n",
    "        figure: the figure object on which text is printed\n",
    "    \"\"\"\n",
    "    for n in range(2):    # as there are two inner grids (subplots) set iter 2 times.\n",
    "        ax = plt.Subplot(fig,outer[0,n])\n",
    "        ax.text(0.3, 0.5, next(text), style='italic',fontsize=20) # call next on text iter object and add text.\n",
    "        ax.set_xticks([])\n",
    "        ax.set_yticks([])\n",
    "        ax.axis('off')\n",
    "        fig.add_subplot(ax)\n",
    "    \n",
    "    return fig\n",
    "\n",
    "def image_subplot(numImages,inner,img_paths_iter,fig,prediction=None):\n",
    "    \"\"\"\n",
    "    Plot the images onto the figure.\n",
    "    Args:\n",
    "        numImages: total number of images to be plotted in the figure\n",
    "        inner: path of the zipped image folder containing the image file\n",
    "        img_paths_iter: iterator object containing paths of the images which nead to be read and plotted.\n",
    "        fig: the figure object on which the images are plot.\n",
    "        prediction: index of the predicted image in the subplot (only used at the end of the notebook \n",
    "        for showing the siamese network predictions)\n",
    "    Returns:\n",
    "        figure: return the figure object\n",
    "    \"\"\"\n",
    "    for i in range(numImages):    \n",
    "        ax = plt.Subplot(fig, inner[i])\n",
    "        if i != prediction:  # prediction kept None for most call only used at end to highlight the prediction image.\n",
    "            ax.imshow(next(img_paths_iter),cmap='Blues_r')  # call next on img path iter object and plot image\n",
    "        else:\n",
    "            ax.imshow(next(img_paths_iter),cmap='Greens')   # call next on img path iter object and plot image\n",
    "        ax.set_xticks([])\n",
    "        ax.set_yticks([])\n",
    "        fig.add_subplot(ax)\n",
    "        \n",
    "    return fig\n",
    "    \n",
    "\n",
    "def visualize_images(figsize,text,inner1dim1,inner1dim2,inner2dim1,inner2dim2,img_paths_iter,wspace,prediction=None):\n",
    "    \"\"\"\n",
    "    transforms the figure into a grid structure. having 3 grid objects outer,inner1,inner2. the text and \n",
    "    images are plotted on these 3 grid structures.\n",
    "    Args:\n",
    "        figsize: tuple which represents the widh (w) and height (h) of the figure\n",
    "        text: the text to be displayed on the figure.\n",
    "        inner1dim1: the number of horizontal partitions for the inner1 grid.\n",
    "        inner1dim2: the number of vertical partitions for the inner1 grid.\n",
    "        inner2dim1: the number of horizontal partitions for the inner2 grid.\n",
    "        inner2dim2: the number of vertical partitions for the inner2 grid.\n",
    "        img_paths_iter: iterator containing the image paths used by image_subplot() function\n",
    "        wspace: wide space between the images in the subplot \n",
    "        prediction: Used at the end of the notebook to highlight some predictions of the siamese network.\n",
    "    Returns:\n",
    "        None\n",
    "    \"\"\"\n",
    "    \n",
    "    fig = plt.figure(figsize=figsize)\n",
    "    \n",
    "    # divide the figure into subplot grids for plotting.\n",
    "    outer = gridspec.GridSpec(2, 2, wspace=0.1, hspace=0.1,width_ratios=[1, 1], height_ratios=[0.15, 1])\n",
    "    \n",
    "    inner1 = gridspec.GridSpecFromSubplotSpec(inner1dim1,inner1dim2,\n",
    "                        subplot_spec=outer[1,0], wspace=wspace, hspace=0.0)\n",
    "        \n",
    "    inner2 = gridspec.GridSpecFromSubplotSpec(inner2dim1,inner2dim2,\n",
    "                subplot_spec=outer[1,1], wspace=wspace, hspace=0.0)    \n",
    "    \n",
    "    # set title for the figure (uses outer grid).\n",
    "    set_title(fig,outer,text)\n",
    "    \n",
    "    # plot figures on the figure (uses inner1,inner2 grids)\n",
    "    fig = image_subplot(inner1dim1*inner1dim2,inner1,img_paths_iter,fig,None)\n",
    "    fig = image_subplot(inner2dim1*inner2dim2,inner2,img_paths_iter,fig,prediction)\n",
    "    \n",
    "    # display\n",
    "    plt.show()\n",
    "    \n",
    "\n",
    "def visualize_data(alphabets,path_list,folder):\n",
    "    \"\"\"\n",
    "    visualize 25 random characters for 4 random alphabets for (background and evaluation data). \n",
    "    Calls the visualize image to transform the plot into grids and plot characters accordingly.\n",
    "    Selects 4 random alphabets and then selects 25 random character for those 4 alphabets\n",
    "    Args:\n",
    "        alphabets: the list of unique alphabets generated from data_summary()\n",
    "        path_list: path of the zipped image folder containing the image file\n",
    "        folder: zip folder containing path of all the images in the folder. \n",
    "    Returns:\n",
    "        None\n",
    "    \"\"\"\n",
    "    # sample 4 random alphabets\n",
    "    alphabet_samples = random.sample(alphabets,4)\n",
    "    # for each sample map to empty list which would store the paths of the images of the alphabet\n",
    "    sample_paths = {alphabet : [] for alphabet in alphabet_samples}\n",
    "    visualize_paths = []\n",
    "    \n",
    "    # populate the list (storing paths of the characters for the alphabet) for each alphabet\n",
    "    for image_path in path_list:\n",
    "        _,alphabet,_,image_name = image_path.split('/')\n",
    "        if alphabet in sample_paths:\n",
    "            sample_paths[alphabet].append(image_path)\n",
    "\n",
    "    images = [] # images which would be visualized\n",
    "    labels  = [] # alphabet list (used in set title)\n",
    "    \n",
    "    # traverse dictionary and select 25 random characters for each alphabet.\n",
    "    for alphabet,image_paths in sample_paths.items():\n",
    "        labels.append(alphabet)\n",
    "        for random_path in random.sample(image_paths,25):\n",
    "            images.append(load_image(random_path,folder))\n",
    "       \n",
    "    # create iterator objects \n",
    "    images_iter = iter(images) # used in img_subplots\n",
    "    label_iter = iter(labels) # used in set_title()\n",
    "\n",
    "    \n",
    "    for _ in range(2): # iterate twice \n",
    "        \n",
    "        # plots characters of two alphabets horizontally (hence for four alphabets called twice.)\n",
    "        visualize_images(figsize=(23,6),\n",
    "                  text=label_iter,\n",
    "                  inner1dim1=5,\n",
    "                  inner1dim2=5,\n",
    "                  inner2dim1=5,\n",
    "                  inner2dim2=5,\n",
    "                  img_paths_iter=images_iter,\n",
    "                  wspace=-0.87)\n",
    "        \n",
    "\n",
    "# visualize the background data.\n",
    "visualize_data(background_alphabets,background_path_list,background_folder)"
   ]
  },
  {
   "cell_type": "markdown",
   "metadata": {},
   "source": [
    "### Data Preparation (background set)\n",
    "\n",
    "In this section we prepare the training data for the verifitcation task. Unlike standard classification tasks where we train a network on input and label pairs and test the models prediction performance on the test input and output pairs. In one shot learning as there is scarse data we try to learn a similarity function between the inputs hence the input to the network is a pair of images and the siamese network learns a mapping function which maps the pair of inputs to either similar/positive pair (1) or dissimilar/negative pair (0). The data for the one-shot learning verification task can be formally described as follows:\n",
    "\n",
    "$$ X_{train} =  \\{({x_{l}}^1,{x_{r}}^1),({x_{l}}^2,{x_{r}}^2)...({x_{l}}^n,{x_{r}}^n)\\}  $$\n",
    "\n",
    "$$ {x_l}^i \\in \\mathbb{R}^{105 \\times 105 \\times 1} \\;\\; $$\n",
    "\n",
    "$$ {x_r}^i \\in \\mathbb{R}^{105 \\times 105 \\times 1} $$\n",
    "\n",
    "$$ Y_{train} =  \\{{y}^1,{y}^2...,{y}^n\\}  $$\n",
    "\n",
    "$$ {y}^i \\in \\{0,1\\} $$\n",
    "\n",
    "$ x_l $ presents the left image passed to the network. and $ x_r $ represents the right image passed to the network. $ y $ represents the label 0 or 1 for the pair of $ x_l,x_r.$  $ n $ represents the number of samples in the data. The data preparation follows the same procedure as given in the paper [\\[1\\]](https://www.cs.cmu.edu/~rsalakhu/papers/oneshot1.pdf). For every alphabet in the background set random characters are chosen and paired within the character sample space and labelled as 1 (positve pair) and then paired with an image outside the character and the pair is labelled 0 (negative pair). Similar to the paper I have chosen to uniformly sample (positive and negative) pairs from the alphabets. For each alphabet there are 1000 pairs of images (500 positive and 500 negative). As there are 30 alphabets in the bacground set. There are a total of 30000 (30 * 1000) samples for the training. Hence X_train consists of 30000 samples and Y_train contains 30000 labels for the corresponding pair in X_train. The paper uses a much larger set of 150,000. I assume 5000 samples per alphabet. To prepare the data for the task a tree structure is created where the dictionary contains the alphabets containing the characters which then map to paths of images for those characters."
   ]
  },
  {
   "cell_type": "code",
   "execution_count": 6,
   "metadata": {},
   "outputs": [],
   "source": [
    "def print_structure(alphabetMap):\n",
    "    \"\"\"\n",
    "    prints the tree structure of the alphabetMap.\n",
    "    Args:\n",
    "        alphabetMap: A nested dictionary representing a tree data structure.\n",
    "    Returns:\n",
    "        None\n",
    "    \"\"\"\n",
    "    print(\"one of the brances of the tree\")\n",
    "    for alphabet,characterMap in alphabetMap.items():\n",
    "        print(alphabet)\n",
    "        print(\"|\\n|\")\n",
    "        for character,character_list in characterMap.items():\n",
    "            print(\"--> Character {0} \\n\\t\\t|\\n\\t\\t|\".format(character))\n",
    "            for i in range(5):\n",
    "                print(\"\\t\\t|---> \" + character_list[i])\n",
    "            print(\"\\t\\t.\\n\\t\\t.\\n\\t\\t|---> \" + character_list[-1])\n",
    "            break\n",
    "        break\n",
    "        \n",
    "def generate(alphabetMap):\n",
    "    \"\"\"\n",
    "    Generates the X_data and Y_data for (training/validation).\n",
    "    Args:\n",
    "        alphabetMap: A nested dictionary representing a tree data structure.\n",
    "    Returns:\n",
    "        X_data: list of tuples containing paths of the left,right images.\n",
    "        Y_data: list of 0/1 labels \n",
    "    \"\"\"\n",
    "    X_data = []\n",
    "    Y_data = []\n",
    "    seen = set()\n",
    "    for alpha,characters in alphabetMap.items():\n",
    "        index = 0\n",
    "        while index != 500:  # every alphabet has 500 positive and 500 negative samples.\n",
    "            c, nc = random.sample(list(characters),2)\n",
    "            a1,a2 = random.sample(characters[c],2)\n",
    "            if (a1,a2) in seen or (a2,a1) in seen: # check is pair already in data.\n",
    "                continue\n",
    "            a3 = random.sample(characters[nc],1)[0]\n",
    "            if (a1,a3) in seen or (a3,a1) in seen:\n",
    "                continue\n",
    "\n",
    "            X_data.append([a1]+[a2]) # add positive pair\n",
    "            Y_data.append(1)\n",
    "            X_data.append([a1]+[a3]) # add negative pair\n",
    "            Y_data.append(0)\n",
    "            seen.add((a1,a2))\n",
    "            seen.add((a1,a3))\n",
    "            index += 1\n",
    "\n",
    "    return X_data,Y_data\n",
    "\n",
    "def data_preparation(images_path_list,visualize=False):\n",
    "    \"\"\"\n",
    "    Creates the tree structure for samples pairs and then calls the generate function to generate sample pairs and labels.\n",
    "    Also calls visualize (optional) for viewing the tree structure from where the data is \n",
    "    Args:\n",
    "        images_path_list: the list of path of all images in the zip folder data.\n",
    "        visualize: visualize the tree structure of the alphabet map.\n",
    "    Returns:\n",
    "        X: A list of tuple containing image paths of pair of images (X_left,X_right)\n",
    "        Y: A list of 1s and 0s. 1 for positive pair and 0 for negative pair.\n",
    "    \"\"\"\n",
    "    alphabetMap = dict() # define the tree \n",
    "    \n",
    "    # for all image paths map every alphabet to a list of all the characters of the alphabet.\n",
    "    # and every character to the 20 img paths of the character.\n",
    "    for image_path in images_path_list:\n",
    "        _,alphabet,_,image_name = image_path.split('/')\n",
    "        if alphabet not in alphabetMap:\n",
    "            alphabetMap[alphabet] = dict()    \n",
    "        char = image_name.split('_')[0] \n",
    "        alphabetMap[alphabet].setdefault(char,[]).extend([image_path])\n",
    "    \n",
    "    if visualize: print_structure(alphabetMap) # visualize the tree structure\n",
    "    \n",
    "    return generate(alphabetMap) # generate the training\\validation from the tree."
   ]
  },
  {
   "cell_type": "code",
   "execution_count": 7,
   "metadata": {},
   "outputs": [
    {
     "name": "stdout",
     "output_type": "stream",
     "text": [
      "one of the brances of the tree\n",
      "Gujarati\n",
      "|\n",
      "|\n",
      "--> Character 0430 \n",
      "\t\t|\n",
      "\t\t|\n",
      "\t\t|---> images_background/Gujarati/character13/0430_01.png\n",
      "\t\t|---> images_background/Gujarati/character13/0430_02.png\n",
      "\t\t|---> images_background/Gujarati/character13/0430_03.png\n",
      "\t\t|---> images_background/Gujarati/character13/0430_04.png\n",
      "\t\t|---> images_background/Gujarati/character13/0430_05.png\n",
      "\t\t.\n",
      "\t\t.\n",
      "\t\t|---> images_background/Gujarati/character13/0430_20.png\n",
      "\n",
      "(training) Number of samples in X_train : 30000\n",
      "(training) Number of labels in Y_train : 30000\n",
      "path of a left image of a positive training sample: images_background/Anglo-Saxon_Futhorc/character09/0304_07.png\n",
      "path of a right image of the same positive training sample: images_background/Anglo-Saxon_Futhorc/character09/0304_16.png\n",
      "label of the training sample: 1\n",
      "path of a left image of a negative training sample: images_background/Anglo-Saxon_Futhorc/character09/0304_07.png\n",
      "path of a right image of the same negative training sample: images_background/Anglo-Saxon_Futhorc/character27/0322_20.png\n",
      "label of the training sample: 0\n"
     ]
    }
   ],
   "source": [
    "X_train, Y_train = data_preparation(background_path_list,visualize=True)\n",
    "assert len(X_train) == len(Y_train),\"data not prepared properly\"\n",
    "\n",
    "print(\"\\n(training) Number of samples in X_train : {}\".format(len(X_train)))\n",
    "print(\"(training) Number of labels in Y_train : {}\".format(len(Y_train)))\n",
    "index = random.sample([i for i in range(0,len(X_train),2)],1)[0]\n",
    "print(\"path of a left image of a positive training sample:\",X_train[index][0])\n",
    "print(\"path of a right image of the same positive training sample:\",X_train[index][1])\n",
    "print(\"label of the training sample:\",Y_train[index])\n",
    "print(\"path of a left image of a negative training sample:\",X_train[index+1][0])\n",
    "print(\"path of a right image of the same negative training sample:\",X_train[index+1][1])\n",
    "print(\"label of the training sample:\",Y_train[index+1])"
   ]
  },
  {
   "cell_type": "markdown",
   "metadata": {},
   "source": [
    "### Visualization for the verfication task (training set)\n"
   ]
  },
  {
   "cell_type": "code",
   "execution_count": 8,
   "metadata": {},
   "outputs": [
    {
     "data": {
      "image/png": "[encoded data removed]",
      "text/plain": [
       "<matplotlib.figure.Figure at 0x7f247c523d30>"
      ]
     },
     "metadata": {},
     "output_type": "display_data"
    },
    {
     "data": {
      "image/png": "[encoded data removed]",
      "text/plain": [
       "<matplotlib.figure.Figure at 0x7f247a3b7518>"
      ]
     },
     "metadata": {},
     "output_type": "display_data"
    }
   ],
   "source": [
    "def visualize_verification(X,folder):\n",
    "    \"\"\"\n",
    "    visualize the verfication task of (background/validation)\n",
    "    Args:\n",
    "        X: A list of tuples containing the paths of the pairs of the images.\n",
    "        folder: the zip folder object used to read and load the images.\n",
    "    Returns:\n",
    "        None\n",
    "    \"\"\"\n",
    "    for _ in range(2): # 1 figure has two subplots. to plot 2 figures (4 pairs) called 2 times. \n",
    "\n",
    "        index = random.sample([i for i in range(0,len(X),2)],1)[0]  # randomly select an even positioned pair (postive)\n",
    "        img_paths = []\n",
    "        img_paths.append(load_image(X[index][0],folder)) # load the left image for the even index postion\n",
    "        img_paths.append(load_image(X[index][1],folder)) # load the right image for the even..\n",
    "        img_paths.append(load_image(X[index+1][0],folder)) # load the left ... for the odd index position (negative pair)\n",
    "        img_paths.append(load_image(X[index+1][1],folder)) # load the right ... for the odd index position\n",
    "\n",
    "        img_paths_iter = iter(img_paths)\n",
    "        text = iter(['positive pair','negative pair'] * 2)\n",
    "\n",
    "        # call the visualize images defined above.\n",
    "        visualize_images(figsize=(18,4),\n",
    "                         text=text,\n",
    "                         inner1dim1=1,\n",
    "                         inner1dim2=2,\n",
    "                         inner2dim1=1,\n",
    "                         inner2dim2=2,\n",
    "                         img_paths_iter=img_paths_iter,\n",
    "                         wspace=-0.3)\n",
    "\n",
    "visualize_verification(X_train,background_folder)"
   ]
  },
  {
   "cell_type": "markdown",
   "metadata": {},
   "source": [
    "### Loading evaluation set and generating summary \n",
    "open the evalution data from the github url (link) and read the entire folder in bytes format."
   ]
  },
  {
   "cell_type": "code",
   "execution_count": 9,
   "metadata": {},
   "outputs": [
    {
     "name": "stdout",
     "output_type": "stream",
     "text": [
      "Total number of unique alphabets (languages):  20\n",
      "Names of some of the random unique alphabets: \n",
      " ['Angelic', 'Sylheti', 'Mongolian', 'Oriya', 'Kannada', 'Old_Church_Slavonic_(Cyrillic)', 'Manipuri']\n",
      "Total number of unique characters (classes) :  659\n",
      "Path of one of the images:  images_evaluation/Glagolitic/character31/1145_13.png\n",
      "Shape of the sample image : (105, 105)\n"
     ]
    }
   ],
   "source": [
    "eval_url = 'https://github.com/brendenlake/omniglot/blob/master/python/images_evaluation.zip?raw=true'\n",
    "resp = urlopen(eval_url)\n",
    "eval_folder = ZipFile(BytesIO(resp.read()))\n",
    "\n",
    "eval_path_list, eval_alphabets = data_summary(eval_folder)"
   ]
  },
  {
   "cell_type": "markdown",
   "metadata": {},
   "source": [
    "### Visualization (evalution set)\n",
    "\n",
    "visualizing some random character samples belonging to some random alphabets in the evalution set."
   ]
  },
  {
   "cell_type": "code",
   "execution_count": 10,
   "metadata": {},
   "outputs": [
    {
     "data": {
      "image/png": "[encoded data removed]",
      "text/plain": [
       "<matplotlib.figure.Figure at 0x7f248d019a58>"
      ]
     },
     "metadata": {},
     "output_type": "display_data"
    },
    {
     "data": {
      "image/png": "[encoded data removed]",
      "text/plain": [
       "<matplotlib.figure.Figure at 0x7f247e50fa58>"
      ]
     },
     "metadata": {},
     "output_type": "display_data"
    }
   ],
   "source": [
    "visualize_data(eval_alphabets,eval_path_list,eval_folder)"
   ]
  },
  {
   "cell_type": "markdown",
   "metadata": {},
   "source": [
    "### Data Preparation (validation and test split)\n",
    "In the below section we split the evaluation set into two lists for validation data and testing data. The same procedure is followed as listed in the paper. The evaluation data is divided into two parts for validation and for 20 way one shot testing. The evaluation data contains 20 alphabets. The first 10 alphabets are used as the validation set for the one shot verification task and the remaining last 10 alphabets are used for creating the 20 way one shot testing trials as presented in the paper. The only difference is that I have decided to keep my validation set for the verification similar to how the training set is represented ((x_l,x_r) sample pair and (y) label). But In the paper they have used 320 one shot trials which mimic the 20-way one shot testing. The paper also consider my approach and there is little difference. Hence I went ahead with generating the validation set having the same structure as the training set. **Note: None of the alphabets (or characters) are shared between the training, validation and testing sets. All the sets have completely different classes and are mutually exclusive.** "
   ]
  },
  {
   "cell_type": "code",
   "execution_count": 11,
   "metadata": {},
   "outputs": [
    {
     "name": "stdout",
     "output_type": "stream",
     "text": [
      "\n",
      "(validation) Number of X samples: 10000\n",
      "(validation) Number of Y samples: 10000\n",
      "path of a left image of a positive validation sample: images_evaluation/Gurmukhi/character38/1197_10.png\n",
      "path of a right image of the same positive validation sample: images_evaluation/Gurmukhi/character38/1197_05.png\n",
      "label of the validation sample: 1\n",
      "path of a left image of a negative validation sample: images_evaluation/Gurmukhi/character38/1197_10.png\n",
      "path of a right image of the same negative validatoin sample: images_evaluation/Gurmukhi/character12/1171_17.png\n",
      "label of the validation sample: 0\n"
     ]
    }
   ],
   "source": [
    "seen = set()\n",
    "validation_paths = []\n",
    "testing_paths = []\n",
    "for image_path in eval_path_list:\n",
    "    _,alphabet,_,image_name = image_path.split('/')\n",
    "    seen.add(alphabet)\n",
    "    if len(seen) <= 10:\n",
    "        validation_paths.append(image_path)\n",
    "    else:\n",
    "        testing_paths.append(image_path)\n",
    "        \n",
    "X_val, Y_val = data_preparation(validation_paths)\n",
    "\n",
    "assert len(X_val) == len(Y_val),\"data not prepared properly\"\n",
    "print(\"\\n(validation) Number of X samples: {}\".format(len(X_val)))\n",
    "print(\"(validation) Number of Y samples: {}\".format(len(Y_val)))\n",
    "index = random.sample([i for i in range(0,len(X_val),2)],1)[0]\n",
    "print(\"path of a left image of a positive validation sample:\",X_val[index][0])\n",
    "print(\"path of a right image of the same positive validation sample:\",X_val[index][1])\n",
    "print(\"label of the validation sample:\",Y_val[index])\n",
    "print(\"path of a left image of a negative validation sample:\",X_val[index+1][0])\n",
    "print(\"path of a right image of the same negative validatoin sample:\",X_val[index+1][1])\n",
    "print(\"label of the validation sample:\",Y_val[index+1])"
   ]
  },
  {
   "cell_type": "markdown",
   "metadata": {},
   "source": [
    "### Visualization for the verfication task (validation set)"
   ]
  },
  {
   "cell_type": "code",
   "execution_count": 12,
   "metadata": {},
   "outputs": [
    {
     "data": {
      "image/png": "[encoded data removed]",
      "text/plain": [
       "<matplotlib.figure.Figure at 0x7f2480be9d68>"
      ]
     },
     "metadata": {},
     "output_type": "display_data"
    },
    {
     "data": {
      "image/png": "[encoded data removed]",
      "text/plain": [
       "<matplotlib.figure.Figure at 0x7f2480be9be0>"
      ]
     },
     "metadata": {},
     "output_type": "display_data"
    }
   ],
   "source": [
    "visualize_verification(X_val,eval_folder)"
   ]
  },
  {
   "cell_type": "markdown",
   "metadata": {},
   "source": [
    "### Data preparation one shot testing 20-way classification (testing)\n",
    "\n",
    "As of now we have prepared the training data (from background set) having 30,000 samples and validation data (from evaluation set) having 10,000 samples. For the testing the 20 way classification. The same approach is used as in the paper to create a test data from the evaluation set. The approach follows by selecting the first alphabet along with 20 random characters in the alphabet. Then two drawers are selected at random. the first drawers 20 characters are chosen as the test images and tested against the same 20 characters of the 2nd drawer. Only one character from the 2nd drawer would represent the test character from the 1st drawer. \n",
    "$$ X_{ost} = [x^1, x^2, x^3, ... x^{400}] $$\n",
    "$$ x = [test, sample_1, sample_2, ... sample_{20}] $$\n",
    "$$ Y_{ost} = [y^1, y^2, y^3, ... y^{400}] $$\n",
    "$$ y = \\{ i  |  0 <= i < 20\\} $$\n",
    "$ X_{ost} $ represents the entire one shot test data and $ x $ repsents as sample trial.\n",
    "$ Y_{ost} $ represents the labels for the one shot test data. $ y $  presents the index (label) corresponding to the correct pair in $ x $."
   ]
  },
  {
   "cell_type": "code",
   "execution_count": 13,
   "metadata": {},
   "outputs": [
    {
     "name": "stdout",
     "output_type": "stream",
     "text": [
      "\n",
      "(testing) Number of X samples: 400\n",
      "(testing) Number of Y samples: 400\n"
     ]
    }
   ],
   "source": [
    "#initialize an alphabet map\n",
    "alphabetMap = {}\n",
    "#drawerSet a set containing names of drawers \n",
    "drawerSet = set()\n",
    "\n",
    "# below loop creates the tree similar to above\n",
    "\n",
    "# iterate through the testing files paths\n",
    "for image_path in testing_paths:\n",
    "    _,alphabet,_,image_name = image_path.split('/')\n",
    "    # add alphabet to the alphabetMap mapping to a dictionary\n",
    "    if alphabet not in alphabetMap:\n",
    "        alphabetMap[alphabet] = dict()\n",
    "    \n",
    "    char,drawer_tag = image_name.split('_')\n",
    "    # add map alphabet to a list of \n",
    "    alphabetMap[alphabet].setdefault(char,[]).extend([image_path])\n",
    "    drawerSet.add(drawer_tag.split('.')[0])\n",
    "\n",
    "X_ost = []  # stores a list of one shot trials  \n",
    "Y_ost = []  # stores actual ground truth labels for the one shot trials.\n",
    "\n",
    "\n",
    "for alphabet,character_list in alphabetMap.items():\n",
    "    for _ in range(2):\n",
    "        selected_chars = random.sample(list(character_list),20)  # select 20 random characters from the alphbabet\n",
    "        drawer1,drawer2 = random.sample(drawerSet,2) # select 2 random drawers\n",
    "        test_drawers = [] # stores path of images for the drawer1\n",
    "        select_drawers = [] # stores path of images for drawer2\n",
    "        \n",
    "        # iterate through the images of 20 characters selected\n",
    "        for char in selected_chars:\n",
    "            for image_path in character_list[char]:\n",
    "                sample_drawer = image_path.split('/')[-1].split('.')[0].split('_')[1]\n",
    "                if sample_drawer == drawer1:\n",
    "                    test_drawers.append(image_path)  # store if images belongs to drawer 1\n",
    "                elif sample_drawer == drawer2:\n",
    "                    select_drawers.append(image_path) # store if images belongs to drawer 2\n",
    "        \n",
    "        # for each image in test_drawer map 20 images in select drawer to create a trial.\n",
    "        for test_drawer in test_drawers:\n",
    "            trial = [test_drawer]  # first image in trial is the test image\n",
    "            label = [] # label for the trial\n",
    "            test_char = test_drawer.split('/')[-1].split('.')[0].split('_')[0]\n",
    "            for select_drawer in select_drawers:  # append the 20 images to the trial \n",
    "                possible_char = select_drawer.split('/')[-1].split('.')[0].split('_')[0]\n",
    "                trial.append(select_drawer)\n",
    "                if test_char == possible_char: \n",
    "                    label.append(1)\n",
    "                else:\n",
    "                    label.append(0)\n",
    "            \n",
    "            X_ost.append(trial)\n",
    "            Y_ost.append(label)\n",
    "\n",
    "Y_ost = np.argmax(np.array(Y_ost),axis=1)\n",
    "\n",
    "print(\"\\n(testing) Number of X samples: {}\".format(len(X_ost)))\n",
    "print(\"(testing) Number of Y samples: {}\".format(len(Y_ost)))\n"
   ]
  },
  {
   "cell_type": "markdown",
   "metadata": {},
   "source": [
    "### Visualizing one shot testing data (20-way classification)\n",
    "\n",
    "In the below section we randomly sample two one shot trails to check how the testing data is prepared. \n",
    "The left side consists of the test image and the right side consists of 20 possible samples classes from which the network has to chose based on which of the 20 characters resembles the test image. All the 20 characters represent different classes of the same alphabet similar to how they developed the testing set in the paper. There are total of 400 one shot 20 way classification as given in the paper"
   ]
  },
  {
   "cell_type": "code",
   "execution_count": 14,
   "metadata": {},
   "outputs": [
    {
     "data": {
      "image/png": "[encoded data removed]",
      "text/plain": [
       "<matplotlib.figure.Figure at 0x7f247943b9e8>"
      ]
     },
     "metadata": {},
     "output_type": "display_data"
    },
    {
     "data": {
      "image/png": "[encoded data removed]",
      "text/plain": [
       "<matplotlib.figure.Figure at 0x7f24794f1390>"
      ]
     },
     "metadata": {},
     "output_type": "display_data"
    }
   ],
   "source": [
    "for _ in range(2):  # visualize 2 random one shot trials.\n",
    "    \n",
    "    vec = []\n",
    "    for im in random.sample(X_ost,1)[0]:  # select a random one shot trial\n",
    "        vec.append(load_image(im,eval_folder))\n",
    "        \n",
    "    vec = iter(vec) \n",
    "    text = iter(['test image','20 possible classes'])\n",
    "    \n",
    "    # visualize a one-shot test trial\n",
    "    visualize_images(figsize=(17,5),\n",
    "                     text=text,\n",
    "                     inner1dim1=1,\n",
    "                     inner1dim2=1,\n",
    "                     inner2dim1=4,\n",
    "                     inner2dim2=5,\n",
    "                     img_paths_iter=vec,\n",
    "                     wspace=-0.75) "
   ]
  },
  {
   "cell_type": "markdown",
   "metadata": {},
   "source": [
    "## One shot testing trials\n",
    "\n",
    "I am using the K-Nearest Neighbour algorithm as a baseline to compare it to the one-shot learning algorithm. But as we have only one sample per class in the possible classes that and only one of them is a match to the test sample, Hence the value of K = 1. l2 norm (euclidean distance) is used as the distance metric. Hence for every one-shot trial the distance between the test image and the 20 images (neighbours) is calculated and the class of the image having the closest distance is chosen as the class for the test sample.\n",
    "\n",
    "### $$ C(x_t) = \\underset{c\\in C}{\\operatorname{argmax}} \\lVert x_t - x_c \\rVert_2 \\;\\;\\; C = \\{0..19\\} $$\n",
    "\n",
    "I am using a baseline algorithm just to get a sense of how well it performs to the one-shot learning siamese network. The reason I have used K-nn is becuase it is simple to implement and works good (better than random guessing and Also becuase the authors of the paper have used it.) The below function is called twice for both the models (1-nn and siamese) on the one shot test data. The below function has the k-nn classifier embedded within it."
   ]
  },
  {
   "cell_type": "code",
   "execution_count": 15,
   "metadata": {},
   "outputs": [
    {
     "name": "stdout",
     "output_type": "stream",
     "text": [
      "Accuracy of 1-nn classifier: 17.0 %\n"
     ]
    }
   ],
   "source": [
    "# knn\n",
    "def one_shot_testing(X_ost,Y_ost,model_type,sess=None):\n",
    "    \"\"\"\n",
    "    Tests the performance of the model on the one shot testing data.\n",
    "    Args:\n",
    "        X_ost: one shot test trials\n",
    "        Y_ost: labels of the one shot test trials\n",
    "        model_type: string either \"siamese network\" or \"knn\" to describe which model we want to test\n",
    "        sess: the tensorflow session used only for model_type == siamese_network.\n",
    "    Returns:\n",
    "        Y_pred: array containing predictions of the model.\n",
    "        accuracy: accuracy of the model.\n",
    "    \"\"\"\n",
    "    Y_pred = []\n",
    "    for one_shot_trial in X_ost:\n",
    "\n",
    "        test_image = one_shot_trial[0]\n",
    "        test_image = load_image(test_image,eval_folder)\n",
    "        \n",
    "        # reshape model based on model_type\n",
    "        if model_type == \"knn\":\n",
    "            test_image = test_image.flatten()\n",
    "            test_image = test_image.reshape(test_image.shape[0],1)\n",
    "        \n",
    "        elif model_type == \"siamese_network\":\n",
    "            test_image = test_image.reshape(1,test_image.shape[0],test_image.shape[1],1)\n",
    "        \n",
    "        trial_preds = []\n",
    "        for sample in one_shot_trial[1:]:\n",
    "            sample = load_image(sample,eval_folder)\n",
    "            \n",
    "            # predict the output based on model for the pair \n",
    "            if model_type == \"knn\":\n",
    "                sample = sample.flatten()\n",
    "                sample = sample.reshape(sample.shape[0],1)\n",
    "                prediction = np.linalg.norm(test_image - sample)\n",
    "            \n",
    "            elif model_type == \"siamese_network\":\n",
    "                sample = sample.reshape(1,sample.shape[0],sample.shape[1],1)\n",
    "                prediction = sess.run(pred, feed_dict={X_left: test_image,\n",
    "                                    X_right:sample, is_train : False})\n",
    "            \n",
    "            trial_preds.append(prediction)\n",
    "        \n",
    "        # choose the best corresponding prediction out of the 20 pairs.\n",
    "        trial_preds = np.array(trial_preds).flatten()\n",
    "        if model_type == \"knn\": \n",
    "            predicted = np.argmin(trial_preds)\n",
    "        elif model_type == \"siamese_network\": \n",
    "            predicted = np.argmax(trial_preds)\n",
    "        Y_pred.append(predicted)\n",
    "    \n",
    "    \n",
    "    Y_pred = np.array(Y_pred)\n",
    "    \n",
    "    return Y_pred, accuracy_score(Y_ost,Y_pred) * 100\n",
    "    \n",
    "test_predictions,accuracy =  one_shot_testing(X_ost,Y_ost,\"knn\")\n",
    "print(\"Accuracy of 1-nn classifier: {} %\".format(accuracy))"
   ]
  },
  {
   "cell_type": "markdown",
   "metadata": {},
   "source": [
    "### Minibatch \n",
    "As the the amount of data gets large it becomes difficult to store the data. Therefore it is better to pass the data to the network in batches. A minibatch generator is created which shuffles the data returns the the data having $ m $ samples where $ m $ = the minbatch size. The data is in the following format where X_data is of dimensions $ m $ x 2 and Y_data is of the dimensions $ m $ x 1. The minibatch return the data in the following:\n",
    "\n",
    "$$ Data = \\{({x_{l}}^1,{x_{r}}^1,{y}^1),({x_{l}}^2,{x_{r}}^2,{y}^2)...({x_{l}}^z,{x_{r}}^z,{y}^z)\\} $$   \n",
    "\n",
    "$$ {x_l}^i \\in \\mathbb{R}^{m \\times 105 \\times 105 \\times 1} \\;\\; $$\n",
    "\n",
    "$$ {x_r}^i \\in \\mathbb{R}^{m \\times 105 \\times 105 \\times 1} $$\n",
    "\n",
    "$$ {y}^i \\in \\{0,1\\}^{m \\times 1} $$"
   ]
  },
  {
   "cell_type": "code",
   "execution_count": 16,
   "metadata": {},
   "outputs": [],
   "source": [
    "def minibatch_generator(X_data,Y_data,zip_folder,minibatch_size=32):\n",
    "    \"\"\"\n",
    "    Partition the data into a set of minibatches of size m and transform and load the images for the network to ingest.\n",
    "    Args:\n",
    "        X_data - The list of pair of image paths which need to loaded into minibatches.\n",
    "        Y_data - The list of labels for the corresponding X_data. \n",
    "        zip_folder - The zipfolder where which needs to be accessed for opening the image file for the given path.\n",
    "    Returns:\n",
    "        A tuple repsenting x_left,x_right,y which are numpy arrays representing the minibatch.\n",
    "    \"\"\"\n",
    "\n",
    "    combined = list(zip(X_data, Y_data))  # combine the data into a list of tuples ((x_left,x_right),label)).\n",
    "    random.shuffle(combined) # shuffle\n",
    "    X_data, Y_data = zip(*combined) # unzip (x_left,x_right) , label\n",
    "    \n",
    "    assert len(X_data) == len(Y_data)\n",
    "    \n",
    "    # iterate through data \n",
    "    for i in range(0,len(X_data),minibatch_size):\n",
    "        j = i # j current index of the iteration.\n",
    "        X_left_minibatch, X_right_minibatch, Y_minibatch = [],[],[]\n",
    "        limit = j+minibatch_size # stopping factor\n",
    "        \n",
    "        # read files from the paths, reshape, and add to minibatch. \n",
    "        while j < len(X_data) and j < limit:\n",
    "            left_img_path, right_img_path = X_data[j]\n",
    "            \n",
    "            # process x_left images\n",
    "            img_left = load_image(left_img_path,zip_folder)\n",
    "            img_left = img_left.reshape(img_left.shape[0],img_left.shape[1],1)\n",
    "            X_left_minibatch.append(img_left)\n",
    "            \n",
    "            # process x_right images\n",
    "            img_right= load_image(right_img_path,zip_folder)\n",
    "            img_right = img_right.reshape(img_right.shape[0],img_right.shape[1],1)\n",
    "            X_right_minibatch.append(img_right)\n",
    "            \n",
    "            # process y labels\n",
    "            Y_minibatch.append([Y_data[j]])\n",
    "            j += 1\n",
    "        \n",
    "        # return a numpy minibatch to generator object.\n",
    "        yield np.array(X_left_minibatch),np.array(X_right_minibatch),np.array(Y_minibatch)\n",
    "\n"
   ]
  },
  {
   "cell_type": "markdown",
   "metadata": {},
   "source": [
    "### Parameter Initialization\n",
    "\n",
    "In the below sections we initialize the weights of the siamese network. The weights are initialized in a similar manner as in the paper. All convolutional network layer weights are initialized from a normal distribution. Hence weights $ w_{c1}, w_{c2}, w_{c3}  $ and $ w_{c4} $ are initialized from a distribution having $\\mu$ (mean) = 0 and $\\sigma$ (standard deviation) = 0.01. the weights of the fully connected layer $ w_{fc} $ have the same mean but come from a wider distribution have $\\sigma$ = 0.2. All the biases ($ b_{c1}, b_{c2}, b_{c3}  $ and $ b_{c4} $) are initialized randomly from a normal distribution  $ \\mathcal{N}(\\mu=0.5,\\sigma=0.01) $."
   ]
  },
  {
   "cell_type": "code",
   "execution_count": 17,
   "metadata": {},
   "outputs": [],
   "source": [
    "def initialize_parameters():\n",
    "    \"\"\"\n",
    "    Initializes the weights and the biases of the siamese network and returns a tuple of two dictionaries (weights,biases)\n",
    "    key : String, value : tensorflow variable object.\n",
    "    Args:\n",
    "        None\n",
    "    Returns:\n",
    "        A tuple of weights and biases (dicts())\n",
    "    \n",
    "    \"\"\"\n",
    "    weights = {\n",
    "        # 10x10 conv, 1 input channel, 64 output channels\n",
    "        'wc1': tf.Variable(tf.random_normal(shape=[10, 10, 1, 64],mean=0.0,stddev=0.01),name='wc1'),\n",
    "        # 7x7 conv, 64 input channel, 128 output channels\n",
    "        'wc2': tf.Variable(tf.random_normal(shape=[7, 7, 64, 128],mean=0.0,stddev=0.01),name='wc2'),\n",
    "        # 4x4 conv, 128 input channel, 128 output channels\n",
    "        'wc3': tf.Variable(tf.random_normal(shape=[4, 4, 128, 128],mean=0.0,stddev=0.01),name='wc3'),\n",
    "        # 4x4 conv, 128 input channel, 256 output channels\n",
    "        'wc4': tf.Variable(tf.random_normal(shape=[4, 4, 128, 256],mean=0.0,stddev=0.01),name='wc4'),\n",
    "        # 256*4*4 input nodes 4096 output nodes\n",
    "        'wfc': tf.Variable(tf.random_normal(shape=[256*6*6, 4096],mean=0.0,stddev=0.2),name='wfc'),\n",
    "        # 4096 input nodes, 1 output node\n",
    "        'output': tf.Variable(tf.random_normal(shape=[4096, 1],mean=0.0,stddev=0.2),name='outweight')\n",
    "    }\n",
    "\n",
    "    biases = {\n",
    "        # 64 bias nodes for each out channel layer 1 \n",
    "        'bc1': tf.Variable(tf.random_normal(shape=[64],mean=0.5,stddev=0.01),name='bc1'),\n",
    "        # 128 bias nodes for each out channel layer 2\n",
    "        'bc2': tf.Variable(tf.random_normal(shape=[128],mean=0.5,stddev=0.01),name='bc2'),\n",
    "        # 128 bias nodes for each out channel layer 3 \n",
    "        'bc3': tf.Variable(tf.random_normal(shape=[128],mean=0.5,stddev=0.01),name='bc3'),\n",
    "        # 256 bias nodes for each out channel layer 4 \n",
    "        'bc4': tf.Variable(tf.random_normal(shape=[256],mean=0.5,stddev=0.01),name='bc4'),\n",
    "        # 4096 bias nodes for each out channel layer fc 1 \n",
    "        'bfc': tf.Variable(tf.random_normal(shape=[4096],mean=0.5,stddev=0.01),name='bfc'),\n",
    "        # 1 bias node for each out channel layer fc 2 \n",
    "        'output': tf.Variable(tf.random_normal(shape=[1],mean=0.5,stddev=0.01),name='outbias')\n",
    "    }\n",
    "\n",
    "    return weights,biases"
   ]
  },
  {
   "cell_type": "markdown",
   "metadata": {},
   "source": [
    "### Inputs to the network\n",
    "\n",
    "Below are the defined input and output to the network. The inputs and outputs are defined as placeholder tensor objects.\n",
    "The tensors are of the following shape \n",
    "\n",
    "$ X_{l} $ , $ X_{l} \\in \\mathbb{R}^{m \\times 105 \\times 105 \\times 1} $ and the output placeholder tensor is of the shape \n",
    "$ Y \\in \\{0,1\\}^ {m \\times 1} $  $ m $ represents the number of samples in the data which could be variable hence defined as \"None\" in the code. the last dimension in $ X_{l} $ and $ X_{r} $ represents the number of channels which would be 1 in this case as the images as binary encoded."
   ]
  },
  {
   "cell_type": "code",
   "execution_count": 18,
   "metadata": {},
   "outputs": [],
   "source": [
    "def model_inputs(width=105,height=105):\n",
    "    \"\"\"\n",
    "    Defines network inputs and outputs of the siamese network in tensorflow.\n",
    "    Args:\n",
    "        width: width of the image (default 105)\n",
    "        height width of the image (default 105)\n",
    "    Returns:\n",
    "        tuple of placeholders for the inputs and expected outputs to the network. \n",
    "        inputs : (X_left,X_right) (images)\n",
    "        output : Y ([1,0] vector)\n",
    "    \n",
    "    \"\"\"\n",
    "    X_left = tf.placeholder(tf.float32, [None, width, height, 1])\n",
    "    X_right = tf.placeholder(tf.float32, [None, width, height, 1])\n",
    "    Y = tf.placeholder(tf.float32, [None, 1])\n",
    "    \n",
    "    return X_left, X_right, Y"
   ]
  },
  {
   "cell_type": "markdown",
   "metadata": {},
   "source": [
    "### Siamese network\n",
    "The siamese network is nothing but a convolutional neural network whose last layer is transformed such that instead of using a fully connected layer to make a prediction it is instead used to learn a similarity function between the feature encodings of the fc layer. The first image (X_left) is passed through the network which computes a feature map vector of size 4096 and similarly after that another image (X_right) is passed through the network which computes the feature map of X_right and returns a vector of size 4096. The below image shows the design of the siamese network.\n",
    "![alt text](https://raw.githubusercontent.com/niharvanjaraRIT/one-shot-learning/master/Images/siamese-architecture.png)\n",
    "The siamese network has the same configuration as in the paper. It is important to note that there are the weights of the upper half and the lower half are the same. It is just for interpretation purposes I have added two parts (upper and lower). The only difference between the network architecture in the paper and the one below is that I have also added batch normalization to the network to improve performance of the network."
   ]
  },
  {
   "cell_type": "code",
   "execution_count": 19,
   "metadata": {},
   "outputs": [],
   "source": [
    "def siamese_network(X_left, X_right, weights, biases, is_train):\n",
    "    \"\"\"\n",
    "    Define the siamese network architecture. \n",
    "    Args:\n",
    "        X_left: the left input image  (tensor)\n",
    "        X_right: the right input image (tensor)\n",
    "        weights: weights of the network (dict)\n",
    "        biases: biases of the network (dict)\n",
    "    Returns:\n",
    "        loss_op: the prediction/sigmoid output generated at the network for the given input images.\n",
    "    \"\"\"\n",
    "    def conv2d(x, W, b, strides=1):\n",
    "        \"\"\"\n",
    "        2D Wrapper to the conv layer.\n",
    "        Args:\n",
    "            x: input to the layer\n",
    "            W: weight of the layer \n",
    "            b: bias of the layer\n",
    "            strides: \n",
    "        Returns:\n",
    "            x : output to the layer\n",
    "        \"\"\"\n",
    "    \n",
    "        x = tf.nn.conv2d(x, W, strides=[1, strides, strides, 1], padding='VALID')\n",
    "        x = tf.nn.bias_add(x, b)\n",
    "        x = tf.layers.batch_normalization(x, training=is_train)\n",
    "        x = tf.nn.relu(x)\n",
    "        return x\n",
    "\n",
    "    def maxpool2d(x, k=2):\n",
    "        \"\"\"\n",
    "        2D wrapper to the max pooling layer.\n",
    "        Args:\n",
    "            x: input layer\n",
    "            k: size and stride of the pooling layer\n",
    "        Returns:\n",
    "            x: max pooled output\n",
    "        \"\"\"\n",
    "        x = tf.nn.max_pool(x, ksize=[1, k, k, 1], strides=[1, k, k, 1],padding='VALID')        \n",
    "        return x\n",
    "    \n",
    "    def convolutional_neural_network(x, weights, biases):\n",
    "        \"\"\"\n",
    "        Define the convolutional neural network architecture.\n",
    "        Args:\n",
    "            x: input to the cnn \n",
    "            weights: weights of the network\n",
    "            biases: biases of the network\n",
    "        Returns:\n",
    "            out: fc + sigmoid feature encoding vector for the image.\n",
    "        \"\"\"\n",
    "        conv1 = conv2d(x, weights['wc1'], biases['bc1'])\n",
    "        pool1 = maxpool2d(conv1, k=2)\n",
    "\n",
    "        conv2 = conv2d(pool1, weights['wc2'], biases['bc2'])   \n",
    "        pool2 = maxpool2d(conv2, k=2)\n",
    "\n",
    "        conv3 = conv2d(pool2, weights['wc3'], biases['bc3'])\n",
    "        pool3 = maxpool2d(conv3, k=2)\n",
    "\n",
    "        conv4 = conv2d(pool3, weights['wc4'], biases['bc4'])\n",
    "\n",
    "        fc = tf.reshape(conv4, [-1, weights['wfc'].get_shape().as_list()[0]])\n",
    "        fc = tf.matmul(fc, weights['wfc']) + biases['bfc']\n",
    "        fc = tf.layers.batch_normalization(fc, training=is_train)\n",
    "        out = tf.nn.sigmoid(fc)\n",
    "    \n",
    "        return out\n",
    "    \n",
    "    encoding_1 = convolutional_neural_network(X_left,weights,biases)  # calculate the left images encoding\n",
    "    encoding_2 = convolutional_neural_network(X_right,weights,biases) # calculate the right images encoding\n",
    "    \n",
    "    l1_dist = tf.abs(tf.subtract(encoding_1,encoding_2)) # calculate the l1 distance between the the encodings (left and right)\n",
    "    \n",
    "    # fc + sigmoid of the l1 siamese distance \n",
    "    out = tf.matmul(l1_dist, weights['output']) + biases['output']      \n",
    "    out = tf.layers.batch_normalization(out, training=is_train)\n",
    "    pred = tf.nn.sigmoid(out)\n",
    "    \n",
    "    return pred\n"
   ]
  },
  {
   "cell_type": "markdown",
   "metadata": {},
   "source": [
    "## Siamese Loss \n",
    "\n",
    "the loss function used is binary cross entropy with L2 regularization. The loss formulation is described formally below.\n",
    "\n",
    "$$ L(X_1,X_2,w) = Y . log P(X_1,X_2,w) + (1-Y) .log(1-P(X_1,X_2,w)) + \\lambda \\lVert w \\rVert^2 $$\n",
    "\n",
    "$ X_1 $ and $ X_2 $ represent the data provided to the left and right side of the siamese network. $ Y $ repsents the ground truth if the network (if two images are similar or not). If the two images are similar $ Y = 1 $ and the network should ideally predict $ P(X_1,X_2,w) \\approx 1 $ in order to minimize loss and similarly if $ Y = 0 $ the network should predict $ P(X_1,X_2,w) \\approx 0 $ again to minimize the overall loss. $ \\lambda \\lVert w \\rVert^2 $ is the regularization term used to penalize the network and in order to generalize better. $ P(X_1,X_2,w) $ is derived by taking the sigmoid of the output of the 2nd last layer. $ P(X_1,X_2,w) = \\sigma(w^T|f_1 - f_2|) $. $ f_1 $ and $ f_2 $ represent the encodings derived at the 2nd last layer by the siamese network for the left and right images respectively. It is interesting to note that the order of the encodings do not matter as we take the absolute distance between them. Hence it is irrelavant to the network in what order the images are passed to it. The objective of training the model is to minimize the loss with respect to the parameters (weights) of the network. Adam optimization is used to train the model (learn parameters). similar to the paper"
   ]
  },
  {
   "cell_type": "code",
   "execution_count": 20,
   "metadata": {},
   "outputs": [],
   "source": [
    "def cost_function(prediction,actual,weights):\n",
    "    \"\"\"\n",
    "    Defines cost function of the siamese network in tensorflow.\n",
    "    Args:\n",
    "        prediction: predictions of the network\n",
    "        actual: the ground truth labels of the network\n",
    "        weights: the weights of the network.\n",
    "    Returns:\n",
    "        loss_op: the loss to be optimized by an optimizer (Adam) for training the network\n",
    "    \"\"\"\n",
    "    #_lambda = 0.001\n",
    "    \n",
    "    # l2 regularization with different lambda values for weights in each layer \n",
    "    l2_regularizer = (tf.nn.l2_loss(weights['wc1']) * 0.002 +\n",
    "                  tf.nn.l2_loss(weights['wc2']) * 0.002 +\n",
    "                  tf.nn.l2_loss(weights['wc3']) * 0.002 +\n",
    "                  tf.nn.l2_loss(weights['wc4']) * 0.002 +\n",
    "                  tf.nn.l2_loss(weights['wfc']) * 0.004)\n",
    "\n",
    "    # binary sigmoid cross entropy loss fn.\n",
    "    loss = tf.nn.sigmoid_cross_entropy_with_logits(logits=prediction, labels=actual) \n",
    "\n",
    "    loss_op = tf.reduce_mean(loss + l2_regularizer) \n",
    "    \n",
    "    return loss_op"
   ]
  },
  {
   "cell_type": "markdown",
   "metadata": {},
   "source": [
    "## Model Training\n",
    "\n",
    "Training the model based similar to how it is trained in the paper. Early stopping is employeed similar to the paper to stop the training when the validation error stops increasing for 20 epochs. Note due to lack of computational resources the weights were saved and repeated loaded and trained again. Hence the output of the network shown below is for the last 10 epochs trained the saved weights. The network was trained for 70-80 epochs approx."
   ]
  },
  {
   "cell_type": "code",
   "execution_count": 21,
   "metadata": {},
   "outputs": [
    {
     "name": "stdout",
     "output_type": "stream",
     "text": [
      "Loading saved trained weights..\n",
      "INFO:tensorflow:Restoring parameters from model.ckpt\n",
      "epoch 1 : training loss = 14.46, validation loss = 14.51 training acc: = 91.77 %, validation acc: = 87.30 %\n",
      "epoch 2 : training loss = 12.03, validation loss = 12.09 training acc: = 95.36 %, validation acc: = 86.64 %\n",
      "epoch 3 : training loss = 10.12, validation loss = 10.16 training acc: = 96.42 %, validation acc: = 87.52 %\n",
      "epoch 4 : training loss = 8.40, validation loss = 8.43 training acc: = 96.90 %, validation acc: = 87.33 %\n",
      "epoch 5 : training loss = 7.01, validation loss = 6.98 training acc: = 97.32 %, validation acc: = 86.68 %\n",
      "epoch 6 : training loss = 5.87, validation loss = 5.87 training acc: = 97.23 %, validation acc: = 87.29 %\n",
      "epoch 7 : training loss = 4.83, validation loss = 4.77 training acc: = 97.61 %, validation acc: = 87.53 %\n",
      "epoch 8 : training loss = 4.09, validation loss = 4.05 training acc: = 97.59 %, validation acc: = 86.67 %\n",
      "epoch 9 : training loss = 3.35, validation loss = 3.39 training acc: = 97.75 %, validation acc: = 86.10 %\n",
      "epoch 10 : training loss = 2.94, validation loss = 2.95 training acc: = 97.83 %, validation acc: = 85.08 %\n",
      "\n",
      "training_completed\n"
     ]
    }
   ],
   "source": [
    "tf.reset_default_graph() # rest the computation graph in tensorflow.\n",
    "\n",
    "X_left, X_right, Y = model_inputs() # define model inputs to the network\n",
    " \n",
    "weights,biases = initialize_parameters() # intialize weights.\n",
    "\n",
    "is_train = tf.placeholder(tf.bool); # placeholder is used for batch normalization (True only in training)\n",
    "\n",
    "pred = siamese_network(X_left,X_right,weights,biases,is_train) # predict using siamese network\n",
    "\n",
    "loss_op = cost_function(pred,Y,weights) # define the cost \n",
    "\n",
    "\n",
    "optimizer = tf.train.AdamOptimizer(learning_rate=0.00006) # Adam optimizer for weight updates\n",
    "\n",
    "# block used for Batch Norm \n",
    "update_ops = tf.get_collection(tf.GraphKeys.UPDATE_OPS) \n",
    "with tf.control_dependencies(update_ops):\n",
    "    train_op = optimizer.minimize(loss_op) # minimize the loss\n",
    "\n",
    "\n",
    "correct_pred = tf.equal(tf.round(pred), Y)  # vector of how many correct \n",
    "total_correct = tf.reduce_sum(tf.cast(correct_pred, tf.float32)) \n",
    "\n",
    "saver = tf.train.Saver()  # Called later to restore parameters and save model parameters. \n",
    "\n",
    "def model_training(X_train,Y_train,X_val,Y_val,num_epochs=10,stopping_limit=20):\n",
    "    \"\"\"\n",
    "    train the network.\n",
    "    Args:\n",
    "        X_train: train data\n",
    "        Y_train: train labels\n",
    "        X_val: validation data\n",
    "        Y_val: validation labels.\n",
    "        num_epochs: number of epochs to be trained for\n",
    "        stopping limit: stopping criteria.\n",
    "    Returns:\n",
    "        sess: tensorflow session\n",
    "        all_val_loss: list of losses (validation)\n",
    "        all_traiin_loss: list of losses (training)\n",
    "    \"\"\"\n",
    "    sess = tf.InteractiveSession() # create session.\n",
    "\n",
    "    # Run the initializer\n",
    "    sess.run(tf.global_variables_initializer())\n",
    "    \n",
    "    # load the weights if available.\n",
    "    if os.path.isfile(\"model.ckpt.index\"):\n",
    "        print(\"Loading saved trained weights..\")\n",
    "        saver.restore(sess, \"model.ckpt\")\n",
    "\n",
    "    \n",
    "    prev_validation_acc = 0 # used for storing best accuracy on the validation set.  \n",
    "    current_limit = 0 \n",
    "\n",
    "    all_train_loss = [] # losses of training \n",
    "    all_val_loss = [] # losses of validation\n",
    "    \n",
    "    # start training \n",
    "    for i in range(1,num_epochs+1):\n",
    "                \n",
    "        correct = 0\n",
    "            \n",
    "        # train on the training set\n",
    "        for x_left,x_right,y in minibatch_generator(X_train,Y_train,background_folder,minibatch_size=128):\n",
    "            train_loss,_,train_correct = sess.run([loss_op,train_op,total_correct], feed_dict={X_left: x_left,\n",
    "                                           X_right: x_right,\n",
    "                                           Y: y, is_train : True})\n",
    "            \n",
    "            correct += train_correct\n",
    "        \n",
    "        train_acc = correct*100/len(X_train)\n",
    "        all_train_loss.append(train_loss)\n",
    "        \n",
    "        # check validation accuracy and loss on the validation set.\n",
    "        correct = 0\n",
    "        for x_left,x_right,y in minibatch_generator(X_val,Y_val,eval_folder,minibatch_size=128):\n",
    "            val_loss,val_correct = sess.run([loss_op,total_correct], feed_dict={X_left: x_left,\n",
    "                                           X_right: x_right,\n",
    "                                           Y: y, is_train : False})\n",
    "            \n",
    "            correct += val_correct\n",
    "        \n",
    "        all_val_loss.append(val_loss)\n",
    "\n",
    "        val_acc = correct*100/len(X_val)\n",
    "\n",
    "        # print statistics while training\n",
    "        print((\"epoch {0} : training loss = {1:.2f}, validation loss = {2:.2f}\".format(i,train_loss,val_loss) + \n",
    "               \" training acc: = {0:.2f} %, validation acc: = {1:.2f} %\".format(train_acc,val_acc)))\n",
    "        \n",
    "        # save the model if better than the previous model \n",
    "        if val_acc >= prev_validation_acc:\n",
    "            prev_validation_acc = val_acc\n",
    "            saver.save(sess,\"model.ckpt\")\n",
    "            current_limit = 0\n",
    "        else:\n",
    "            current_limit += 1\n",
    "\n",
    "        # stop training if validation accuracy not improving.\n",
    "        if stopping_limit == current_limit:\n",
    "            break\n",
    "\n",
    "\n",
    "    print(\"\\ntraining_completed\")\n",
    "    \n",
    "    return all_train_loss,all_val_loss,sess\n",
    "\n",
    "all_train_loss,all_val_loss,sess = model_training(X_train=X_train,\n",
    "                                                  Y_train=Y_train,\n",
    "                                                  X_val=X_val,\n",
    "                                                  Y_val=Y_val,\n",
    "                                                  num_epochs=10,\n",
    "                                                  stopping_limit=20)"
   ]
  },
  {
   "cell_type": "markdown",
   "metadata": {},
   "source": [
    "### Plotting training and validation losses"
   ]
  },
  {
   "cell_type": "code",
   "execution_count": 22,
   "metadata": {},
   "outputs": [
    {
     "data": {
      "image/png": "[encoded data removed]",
      "text/plain": [
       "<matplotlib.figure.Figure at 0x7f2479475e48>"
      ]
     },
     "metadata": {},
     "output_type": "display_data"
    }
   ],
   "source": [
    "plt.plot(np.squeeze(all_train_loss),label='training')\n",
    "plt.plot(np.squeeze(all_val_loss),label='validation')\n",
    "plt.xlabel('steps')\n",
    "plt.ylabel('loss')\n",
    "plt.title('Model Performance')\n",
    "plt.legend()\n",
    "plt.show()"
   ]
  },
  {
   "cell_type": "code",
   "execution_count": 24,
   "metadata": {},
   "outputs": [
    {
     "name": "stdout",
     "output_type": "stream",
     "text": [
      "Accuracy of the siamese network 58.5\n"
     ]
    }
   ],
   "source": [
    "siamese_predictions,accuracy = one_shot_testing(X_ost,Y_ost,\"siamese_network\",sess)\n",
    "print(\"Accuracy of the siamese network\",accuracy) # 20 way Test accuracy of one_shot_learning"
   ]
  },
  {
   "cell_type": "markdown",
   "metadata": {},
   "source": [
    "### Visualizing predictions of the siamese network\n",
    "\n",
    "We explore some of the output predictions made by the siamese network compared to the ground truth (test image) of the network."
   ]
  },
  {
   "cell_type": "code",
   "execution_count": 29,
   "metadata": {},
   "outputs": [
    {
     "data": {
      "image/png": "[encoded data removed]",
      "text/plain": [
       "<matplotlib.figure.Figure at 0x7f2472daf438>"
      ]
     },
     "metadata": {},
     "output_type": "display_data"
    },
    {
     "data": {
      "image/png": "[encoded data removed]",
      "text/plain": [
       "<matplotlib.figure.Figure at 0x7f2479475940>"
      ]
     },
     "metadata": {},
     "output_type": "display_data"
    },
    {
     "data": {
      "image/png": "[encoded data removed]",
      "text/plain": [
       "<matplotlib.figure.Figure at 0x7f2470403ef0>"
      ]
     },
     "metadata": {},
     "output_type": "display_data"
    },
    {
     "data": {
      "image/png": "[encoded data removed]",
      "text/plain": [
       "<matplotlib.figure.Figure at 0x7f247006eda0>"
      ]
     },
     "metadata": {},
     "output_type": "display_data"
    }
   ],
   "source": [
    "for _ in range(4):\n",
    "    \n",
    "    vec = []\n",
    "    index = random.randint(0,len(X_ost)) \n",
    "    for im in X_ost[index]:\n",
    "        vec.append(load_image(im,eval_folder))\n",
    "        \n",
    "    vec = iter(vec)\n",
    "    text = iter(['test image','siamese prediction'])\n",
    "    visualize_images(figsize=(17,5),\n",
    "              text=text,\n",
    "             inner1dim1=1,inner1dim2=1,inner2dim1=4,inner2dim2=5,img_paths_iter=vec,wspace=-0.75,prediction=siamese_predictions[index])\n",
    "    "
   ]
  },
  {
   "cell_type": "markdown",
   "metadata": {},
   "source": [
    "### Conclusion\n",
    "\n",
    "Based on the results we can conclude that it performs considerably well compared to K-nn classifier even when trained for just few epochs. Also it is able to fit the train data and overfits a bit but still gives a descent score based on the complexity of the task. There are quite some differences between the 20 way one shot learning accuracy ~58% and the 2 way accuracy ~85% I believe the difference is because there are more classes to choose from and instead of predicting they are positive/negative pair we now have to choose the class sharing the most similarity. many characters share the common structures makinig it hard to get very good performance on unseen characters. Given that the accuracy is not even close when compared with the paper (~92%) Some of the reasons for it could be becuase\n",
    "* Not having trained the model for long enough. \n",
    "* Some hypterparameters need to be tuned. (learning rate, regularization coeffs).\n",
    "* the paper also introduces different momentum parameters and different learning rates for each layer and a learning rate decay of 0.1 throughout the network which is not used in my approach.\n",
    "* The paper uses 150,000 samples to train the siamese network compared to 30,000 samples used in this notebook.\n",
    "* The paper also uses data augmentation techniques to introduce images with affine distortions to improve performance which is not explored in this notebook.\n",
    "* The paper uses bayesian optimization for tuning the hyperparameters which is not in the scope of this notebook.\n",
    "\n",
    "The idea of this notebook is to show how one-shot learning task can be formulated and solved. The results of this notebook can be improved by following the procedures listed above."
   ]
  },
  {
   "cell_type": "code",
   "execution_count": null,
   "metadata": {},
   "outputs": [],
   "source": []
  }
 ],
 "metadata": {
  "kernelspec": {
   "display_name": "Python 3",
   "language": "python",
   "name": "python3"
  },
  "language_info": {
   "codemirror_mode": {
    "name": "ipython",
    "version": 3
   },
   "file_extension": ".py",
   "mimetype": "text/x-python",
   "name": "python",
   "nbconvert_exporter": "python",
   "pygments_lexer": "ipython3",
   "version": "3.6.5"
  }
 },
 "nbformat": 4,
 "nbformat_minor": 2
}
